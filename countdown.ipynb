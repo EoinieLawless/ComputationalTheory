{
 "cells": [
  {
   "cell_type": "markdown",
   "metadata": {},
   "source": [
    "# Computational Theory Project -\n",
    "## **Countdown Number Game** \n",
    "\n",
    "#### This Jupyter notebook is made to:\n",
    "- Explain of the Countdown numbers game\n",
    "- Analyize the computational complexity of the game\n",
    "- Explaining my approach to solve the game\n",
    "\n",
    "- Create a function called *solve_numbers*\n",
    "  \n",
    "  >This takes any such list of six numbers and a target number, and returns at least one solution if it exists. In some cases a solution might not exist, in which case the function should return None.\n",
    "\n",
    "- Examples of using the function.\n",
    "- Explanation of any functional programming aspects in my solution.\n",
    "\n",
    "*** "
   ]
  },
  {
   "cell_type": "markdown",
   "metadata": {},
   "source": [
    "**Index Page**\n",
    "\n",
    ">[Introduction- What is the countdown number Game?](#Introduction)\n",
    "\n",
    ">[Computational Complexity](#Computational-Complexity)\n",
    "\n",
    ">[Conclusion](#Conclusion)\n",
    "\n",
    ">[References](#References)\n",
    "\n",
    "\n",
    "***"
   ]
  },
  {
   "cell_type": "markdown",
   "metadata": {},
   "source": [
    "# Introduction\n",
    "\n",
    "#### What is the Countdown Number Game?\n",
    "\n",
    "The Countdown Numbers Game is a popular mathematical puzzle that is featured as a segment on the television show \"Countdown.\" The game involves the contestents selecting a set of six numbers from a specified range, typically consisting of small integers (e.g., 1 to 10) and larger integers (e.g., 25, 50, 75, and 100). Once chosen, a random number between 101 and 999 is generated.\n",
    "\n",
    "![Alt text](https://4.bp.blogspot.com/-9-CV1KsHMLE/UsBVt9aqRGI/AAAAAAAAFC8/fvXHYzFNhtM/s320/Level+3+-+01.jpg)\n",
    "\n",
    "The aim of the game is to use the six selected numbers through basic arithmetic operations (addition, subtraction, multiplication, and division) to reach the randomly generated number. The contestants can only use the selected numbers once, and they have to use all six numbers. Not all the numbers need to be used in the final expression, but they must be used into the in between steps of the calculation. Contestants can use various approaches to reach the target number.\n",
    "\n",
    "***"
   ]
  },
  {
   "cell_type": "markdown",
   "metadata": {},
   "source": [
    "# Computational Complexity"
   ]
  },
  {
   "cell_type": "markdown",
   "metadata": {},
   "source": [
    "***\n",
    "\n",
    "# References \n"
   ]
  }
 ],
 "metadata": {
  "kernelspec": {
   "display_name": "Python 3 (ipykernel)",
   "language": "python",
   "name": "python3"
  },
  "language_info": {
   "codemirror_mode": {
    "name": "ipython",
    "version": 3
   },
   "file_extension": ".py",
   "mimetype": "text/x-python",
   "name": "python",
   "nbconvert_exporter": "python",
   "pygments_lexer": "ipython3",
   "version": "3.9.13"
  }
 },
 "nbformat": 4,
 "nbformat_minor": 2
}
