{
 "cells": [
  {
   "cell_type": "markdown",
   "metadata": {},
   "source": [
    "# <u> Computational Theory Project </u>- \n",
    "## **Countdown Number Game** \n",
    "\n",
    "*** \n",
    "\n",
    "### This Jupyter notebook is made to:\n",
    "- Explain of the Countdown numbers game\n",
    "- Analyize the computational complexity of the game\n",
    "- Explaining my approach to solve the game\n",
    "\n",
    "- Create a function called *solve_numbers*\n",
    "  \n",
    "  >This takes any such list of six numbers and a target number, and returns at least one solution if it exists. In some cases a solution might not exist, in which case the function should return None.\n",
    "\n",
    "- Examples of using the function.\n",
    "- Explanation of any functional programming aspects in my solution.\n",
    "\n",
    "*** "
   ]
  },
  {
   "cell_type": "markdown",
   "metadata": {},
   "source": [
    "**Index Page**\n",
    "\n",
    ">[Introduction- What is the countdown number Game?](#Introduction)\n",
    "\n",
    ">[Computational Complexity](#Computational-Complexity)\n",
    "\n",
    ">[The Complexity of the Game](#The-Game-Complexity)\n",
    "\n",
    ">[Reverse Polish Notion](#Reverse-Polish-Notation-in-Computational-Operations)\n",
    "\n",
    ">[Solving the Game](#Solving-the-Game)\n",
    "\n",
    ">[Conclusion](#Conclusion)\n",
    "\n",
    ">[References](#References)\n",
    "\n",
    "\n",
    "***"
   ]
  },
  {
   "cell_type": "markdown",
   "metadata": {},
   "source": [
    "# <u> Introduction </u>\n",
    "\n",
    "#### What is the Countdown Number Game?\n",
    "\n",
    "The Countdown Numbers Game is a popular mathematical puzzle that is featured as a segment on the television show \"Countdown.\" The game involves the contestents selecting a set of six numbers from a specified range, typically consisting of small integers (e.g., 1 to 10) and larger integers (e.g., 25, 50, 75, and 100). Once chosen, a random number between 101 and 999 is generated.\n",
    "\n",
    "![Alt text](https://4.bp.blogspot.com/-9-CV1KsHMLE/UsBVt9aqRGI/AAAAAAAAFC8/fvXHYzFNhtM/s320/Level+3+-+01.jpg)\n",
    "\n",
    "The aim of the game is to use the six selected numbers through basic arithmetic operations (addition, subtraction, multiplication, and division) to reach the randomly generated number. The contestants can only use the selected numbers once, and they have to use all six numbers. Not all the numbers need to be used in the final expression, but they must be used into the in between steps of the calculation. Contestants can use various approaches to reach the target number, but no fractions are allowed during any stage of the calculation and positive numbers are only allowed(In the case of subtaction). <a href=\"https://en.wikipedia.org/wiki/Countdown_(game_show)\">[1]<a></a>\n",
    "\n",
    "### Example of How the Game Works\n",
    "\n",
    "Here's a simple example showing how contestants might use a selection of numbers to reach a target number (420):\n",
    "\n",
    "### Chosen Numbers for the Game\n",
    "\n",
    "| Numbers chosen | 1  | 2  | 3  | 10 | 25 | 50 |\n",
    "|--------|----|----|----|----|----|----|\n",
    "\n",
    "    \n",
    "| Step | Numbers Used | Operation              | Result | Description                                                             |\n",
    "|------|--------------|------------------------|--------|-------------------------------------------------------------------------|\n",
    "| 1    | 50, 10       | 50 * 10                | 500    | Multiply 50 by 10 to utilize the largest numbers effectively.           |\n",
    "| 2    | 500, 25      | 500 - 25 * 3           | 425    | Subtract 75 (25 multiplied by 3) to reduce the result nearer to 420.    |\n",
    "| 3    | 425, 2       | 425 - 2                | 423    | Subtract 2 to refine the approach to the target number.                 |\n",
    "| 4    | 423, 1       | 423 - 1                | 422    | Subtract 1 to achieve the final result as close as possible to 420.     |\n",
    "| Final|              |                        | 422    | The final result, 422, is achieved using each number exactly once.      |\n",
    "\n",
    "This table illustrates how each step builds on the previous ones using basic arithmetic operations, adhering to the game's rules of using each selected number only once. Although the example does not reach an exact target, it demonstrates the methodology.\n",
    "\n",
    "***"
   ]
  },
  {
   "cell_type": "markdown",
   "metadata": {},
   "source": [
    "# <u> Computational Complexity </u>\n",
    "\n",
    "### What is Computational complexity?\n",
    "\n",
    "*Computational complexity* refers to the study of the resources required for computational problems, resources like as time and space. It is used to solve computational algorithm and understand more efficient ways of problem solving. Time complexity, measures the amount of time an algorithm takes to finish, based on how big the problem is. Space complexity measures the amount of memory space an algorithm requires.\n",
    "\n",
    "In computational complexity theory, problems are classified based on their difficulty. Some problems can be solved efficiently and fast, while others may take a long time and unefficient. These can be classified by using the terms P, NP, and NP-complete.\n",
    "\n",
    "\n",
    "**P Problems**: P problems are efficiently solvable using algorithms with reasonable time complexity.\n",
    "\n",
    "**NP Problems**: These are decision problems for which a given solution can be verified in *polynomial time* by a deterministic Turing machine. NP stands for \"nondeterministic polynomial time.\" While solutions to NP problems can be verified quickly, finding the solutions themselves may be difficult and often requires exhaustive search.\n",
    "\n",
    "**NP-Complete Problems**: These are the hardest problems in NP. They are a subset of NP problems for which every other problem in NP can be reduced to in polynomial time. NP-complete problems are considered to be among the most challenging computational problems, as no efficient algorithms are known for solving them.\n",
    "\n",
    "\n"
   ]
  },
  {
   "cell_type": "markdown",
   "metadata": {},
   "source": [
    "# <u> The Game Complexity </u>\n",
    "\n",
    "The Countdown Numbers Game involves selecting a set of six numbers and using basic arithmetic operations to reach a target number. The computational complexity of solving this game depends on various factors, including the range of numbers allowed, the target number, and the approach used to find a solution.\n",
    "\n",
    "1. **Exponential Growth**: As the range of numbers allowed and the target number increase, the number of possible combinations and operations grows exponentially. This can lead to a significant increase in the time complexity of finding a solution, especially when using brute-force methods.\n",
    "\n",
    "2. **Algorithmic Efficiency**: The way we solve the Countdown Numbers Game can affect how long it takes to find an answer. If we try every possible combination of numbers and operations one by one (like checking every door in a house to find the keys), it could take a really long time, especially if there are lots of numbers involved (Which there is). This method is called brute force, and it's not great for big problems because it can take forever.\n",
    "\n",
    "3. **NP-Hardness**: While the Countdown Numbers Game may not come directly into the categories of P, NP, or NP-complete problems, its computational complexity shares likeness with NP-hard problems. NP-hard problems are those for which there is no known efficient algorithms, and solving them may require exponential time."
   ]
  },
  {
   "cell_type": "markdown",
   "metadata": {},
   "source": [
    "*** \n",
    "\n",
    "# <u> Reverse Polish Notation in Computational Operations </u>\n",
    "## What is Reverse Polish Notation (RPN)?\n",
    "Reverse Polish Notation is a mathematical notation wherein every operator follows all of its operands. It is also known as postfix notation. This eliminates the need for parentheses that are required by infix notation. RPN can make the process of calculation straightforward and effectively reduce the computational complexity. <a href=\" https://ianmcloughlin.github.io/reverse_polish_notation/\">[6]<a></a>\n",
    "\n",
    "## Application of RPN in Countdown Game\n",
    "In solving the Countdown game, using RPN can simplify the processing of numeric calculations, particularly when parsing and evaluating the players' solutions. Implementing an RPN calculator for the game could streamline operations and increase efficiency. Here’s a brief example of how RPN could be used to solve a simple operation in the game."
   ]
  },
  {
   "cell_type": "code",
   "execution_count": 4,
   "metadata": {},
   "outputs": [],
   "source": [
    "# Example: Converting an expression to RPN\n",
    "# Expression: 3 + 4 * 2 / (1 - 5) \n",
    "# RPN: 3 4 2 * 1 5 - / +"
   ]
  },
  {
   "cell_type": "code",
   "execution_count": 5,
   "metadata": {},
   "outputs": [
    {
     "name": "stdout",
     "output_type": "stream",
     "text": [
      "Result of the RPN expression evaluation: 1.0\n"
     ]
    }
   ],
   "source": [
    "# Define the RPN expression as a string\n",
    "expression = \"3 4 2 * 1 5 - / +\"\n",
    "\n",
    "def evaluate_rpn(expression):\n",
    "    stack = []\n",
    "    for value in expression.split():\n",
    "        if value in \"+-*/\":\n",
    "            op1 = stack.pop()\n",
    "            op2 = stack.pop()\n",
    "            if value == '+': result = op2 + op1\n",
    "            elif value == '-': result = op2 - op1\n",
    "            elif value == '*': result = op2 * op1\n",
    "            elif value == '/': result = int(op2 / op1)  \n",
    "            stack.append(result)\n",
    "        else:\n",
    "            stack.append(float(value))\n",
    "    return stack.pop()\n",
    "result = evaluate_rpn(expression)\n",
    "\n",
    "print(\"Result of the RPN expression evaluation:\", result)\n"
   ]
  },
  {
   "cell_type": "markdown",
   "metadata": {},
   "source": [
    "This example uses the RPN expression 3 4 2 * 1 5 - / +, which corresponds to the infix expression 3 + ((4 * 2) / (1 - 5)). When evaluated, this should perform the following operations step-by-step:\n",
    "\n",
    "- Multiply 4 by 2 to get 8.\n",
    "- Subtract 5 from 1 to get -4.\n",
    "- Divide 8 by -4 to get -2.\n",
    "- Add 3 to -2 to get 1.\n",
    "\n",
    "The expected result of this expression is 1. When you run the code snippet, it should print 1 as the output."
   ]
  },
  {
   "cell_type": "markdown",
   "metadata": {},
   "source": [
    "***\n",
    "\n",
    "# <u>Recursive Search in Problem Solving</u>\n",
    "\n",
    "## What is Recursive Search?\n",
    "\n",
    "Recursive search is a method used in computer science where a function calls itself repeatedly in order to solve a problem that can be broken down into smaller, simpler subproblems. This technique is particularly useful in scenarios where a problem can be divided into similar subproblems, allowing solutions to the smaller problems to contribute to the solution of the overall problem.\n",
    "\n",
    "## Application of Recursive Search in the Countdown Game\n",
    "\n",
    "In the context of the Countdown Number Game, recursive search can be a powerful method to explore all possible combinations of the numbers and operations to find a solution that meets the target. The nature of the game, which allows for combining numbers using basic arithmetic operations (addition, subtraction, multiplication, and division), lends itself well to a recursive approach where each possibility is explored systematically.\n",
    "\n",
    "### Example: Recursive Search to Reach a Target Number\n",
    "\n",
    "Here's a detailed breakdown of how recursive search might be implemented to solve a sample problem in the Countdown game:\n"
   ]
  },
  {
   "cell_type": "code",
   "execution_count": 8,
   "metadata": {},
   "outputs": [
    {
     "name": "stdout",
     "output_type": "stream",
     "text": [
      "Solution found:\n",
      "Start 0 + 2 = 2\n",
      "Start 2 * 3 = 6\n",
      "Start 6 * 5 = 30\n"
     ]
    }
   ],
   "source": [
    "# selected the numbers [2, 3, 5, 10] and set a target number of 30.\n",
    "\n",
    "def recursive_search(numbers, target, current_result=0, steps=[]):\n",
    "    # Base case: Check if the current result equals the target\n",
    "    if current_result == target:\n",
    "        return steps\n",
    "\n",
    "    # If we run out of numbers, return None\n",
    "    if not numbers:\n",
    "        return None\n",
    "\n",
    "    # Recursive case: try each number with each operation\n",
    "    for i in range(len(numbers)):\n",
    "        num = numbers[i]\n",
    "        remaining = numbers[:i] + numbers[i+1:]\n",
    "\n",
    "        # Try adding this number\n",
    "        result_add = recursive_search(remaining, target, current_result + num, steps + [(current_result, '+', num, current_result + num)])\n",
    "        if result_add is not None:\n",
    "            return result_add\n",
    "\n",
    "        # Try subtracting this number\n",
    "        result_subtract = recursive_search(remaining, target, current_result - num, steps + [(current_result, '-', num, current_result - num)])\n",
    "        if result_subtract is not None:\n",
    "            return result_subtract\n",
    "\n",
    "        # Try multiplying this number\n",
    "        result_multiply = recursive_search(remaining, target, current_result * num, steps + [(current_result, '*', num, current_result * num)])\n",
    "        if result_multiply is not None:\n",
    "            return result_multiply\n",
    "\n",
    "        # Try dividing this number, if not zero\n",
    "        if num != 0 and current_result != 0 and current_result % num == 0:\n",
    "            result_divide = recursive_search(remaining, target, current_result // num, steps + [(current_result, '/', num, current_result // num)])\n",
    "            if result_divide is not None:\n",
    "                return result_divide\n",
    "\n",
    "    # If no operation leads to a solution, return None\n",
    "    return None\n",
    "\n",
    "# Example usage\n",
    "selected_numbers = [2, 3, 5, 10]\n",
    "target_number = 30\n",
    "\n",
    "solution = recursive_search(selected_numbers, target_number)\n",
    "if solution:\n",
    "    print(\"Solution found:\")\n",
    "    for step in solution:\n",
    "        print(f\"Start {step[0]} {step[1]} {step[2]} = {step[3]}\")\n",
    "else:\n",
    "    print(\"No solution found.\")"
   ]
  },
  {
   "cell_type": "markdown",
   "metadata": {},
   "source": [
    "### Explanation of the Recursive Search Example\n",
    "This function recursive_search starts with the current result (initially zero) and a list of steps (initially empty). It recursively tries each operation with each number, exploring all possible ways to combine the numbers to reach the target. If a sequence of operations results in the target number, it returns the list of steps taken; otherwise, it returns None if no solution is found.\n",
    "\n",
    "This approach systematically explores every combination of operations and number uses, effectively searching the entire problem space. However, it can be computationally expensive, as the number of possible combinations grows exponentially with the number of numbers and operations."
   ]
  },
  {
   "cell_type": "markdown",
   "metadata": {},
   "source": [
    "***\n",
    "\n",
    "# <u> Solving the Game </u>\n",
    "\n",
    "To create a coded solving formula for the countdown game, there's many routes we can take.\n"
   ]
  },
  {
   "cell_type": "code",
   "execution_count": 6,
   "metadata": {},
   "outputs": [
    {
     "name": "stdout",
     "output_type": "stream",
     "text": [
      "Recursive Search: True\n"
     ]
    }
   ],
   "source": [
    "import random\n",
    "\n",
    "# Recursive Search\n",
    "def recursive_search(numbers, target):\n",
    "    if len(numbers) == 1:\n",
    "        return numbers[0] == target\n",
    "    for i in range(len(numbers)):\n",
    "        for j in range(i+1, len(numbers)):\n",
    "            for op in [lambda x, y: x+y, lambda x, y: x-y, lambda x, y: x*y, lambda x, y: x/y if y != 0 else None]:\n",
    "                new_numbers = [numbers[k] for k in range(len(numbers)) if k != i and k != j]\n",
    "                if op is not None:\n",
    "                    if op(numbers[i], numbers[j]) is not None and recursive_search(new_numbers + [op(numbers[i], numbers[j])], target):\n",
    "                        return True\n",
    "    return False\n",
    "    \n",
    "\n",
    "# Example usage\n",
    "selected_numbers = [2, 5, 10]\n",
    "target_number = 25\n",
    "\n",
    "print(\"Recursive Search:\", recursive_search(selected_numbers, target_number))\n"
   ]
  },
  {
   "cell_type": "markdown",
   "metadata": {},
   "source": [
    "The function iterates through all pairs of numbers and applies each of the four basic arithmetic operations (addition, subtraction, multiplication, division) to them.\n",
    "\n",
    "This approach essentially explores the entire search space of possible calculations, trying every combination until it finds a solution or exhausts all possibilities.\n",
    "\n",
    "However, this method becomes increasingly inefficient as the size of the numbers or the target number increases due to the exponential growth in the number of combinations."
   ]
  },
  {
   "cell_type": "markdown",
   "metadata": {},
   "source": [
    "# Analytics"
   ]
  },
  {
   "cell_type": "markdown",
   "metadata": {},
   "source": [
    "# Conclusion\n",
    "\n"
   ]
  },
  {
   "cell_type": "markdown",
   "metadata": {},
   "source": [
    "***\n",
    "\n",
    "# References \n",
    "\n",
    "<a>[1]</a> https://en.wikipedia.org/wiki/Countdown_(game_show)\n",
    "\n",
    "<a>[2]</a> https://www.britannica.com/topic/computational-complexity\n",
    "\n",
    "<a>[3]</a> https://www.geeksforgeeks.org/introduction-to-computation-complex-theory/\n",
    "\n",
    "<a>[4]</a> https://theory.cs.princeton.edu/complexity/book.pdf\n",
    "\n",
    "<a>[5]</a> https://www.geeksforgeeks.org/introduction-to-np-completeness/\n",
    "\n",
    "<a>[6]</a> https://ianmcloughlin.github.io/reverse_polish_notation/\n",
    "\n",
    "<a>[7]</a>\n",
    "\n",
    "<a>[8]</a>\n",
    "\n",
    "<a>[9]</a>\n",
    "\n",
    "<a>[10]</a>\n",
    "\n",
    "<a>[11]</a>\n",
    "\n",
    "<a>[12]</a>\n",
    "\n",
    "<a>[13]</a>\n",
    "\n",
    "<a>[14]</a>\n",
    "\n",
    "<a>[15]</a>\n"
   ]
  }
 ],
 "metadata": {
  "kernelspec": {
   "display_name": "Python 3 (ipykernel)",
   "language": "python",
   "name": "python3"
  },
  "language_info": {
   "codemirror_mode": {
    "name": "ipython",
    "version": 3
   },
   "file_extension": ".py",
   "mimetype": "text/x-python",
   "name": "python",
   "nbconvert_exporter": "python",
   "pygments_lexer": "ipython3",
   "version": "3.9.13"
  }
 },
 "nbformat": 4,
 "nbformat_minor": 2
}
