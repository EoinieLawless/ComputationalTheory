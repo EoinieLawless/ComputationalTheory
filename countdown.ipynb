{
 "cells": [
  {
   "cell_type": "markdown",
   "metadata": {},
   "source": [
    "# Computational Theory Project - \n",
    "## **Countdown Number Game** \n",
    "\n",
    "*** \n",
    "\n",
    "### This Jupyter notebook is made to:\n",
    "- Explain of the Countdown numbers game\n",
    "- Analyize the computational complexity of the game\n",
    "- Explaining my approach to solve the game\n",
    "\n",
    "- Create a function called *solve_numbers*\n",
    "  \n",
    "  >This takes any such list of six numbers and a target number, and returns at least one solution if it exists. In some cases a solution might not exist, in which case the function should return None.\n",
    "\n",
    "- Examples of using the function.\n",
    "- Explanation of any functional programming aspects in my solution.\n",
    "\n",
    "*** "
   ]
  },
  {
   "cell_type": "markdown",
   "metadata": {},
   "source": [
    "**Index Page**\n",
    "\n",
    ">[Introduction- What is the countdown number Game?](#Introduction)\n",
    "\n",
    ">[Computational Complexity](#Computational-Complexity)\n",
    "\n",
    ">[The Complexity of the Game](#The-Game-Complexity)\n",
    "\n",
    ">[Solving the Game](#Solving-the-Game)\n",
    "\n",
    ">[Conclusion](#Conclusion)\n",
    "\n",
    ">[References](#References)\n",
    "\n",
    "\n",
    "***"
   ]
  },
  {
   "cell_type": "markdown",
   "metadata": {},
   "source": [
    "# Introduction\n",
    "\n",
    "#### What is the Countdown Number Game?\n",
    "\n",
    "The Countdown Numbers Game is a popular mathematical puzzle that is featured as a segment on the television show \"Countdown.\" The game involves the contestents selecting a set of six numbers from a specified range, typically consisting of small integers (e.g., 1 to 10) and larger integers (e.g., 25, 50, 75, and 100). Once chosen, a random number between 101 and 999 is generated.\n",
    "\n",
    "![Alt text](https://4.bp.blogspot.com/-9-CV1KsHMLE/UsBVt9aqRGI/AAAAAAAAFC8/fvXHYzFNhtM/s320/Level+3+-+01.jpg)\n",
    "\n",
    "The aim of the game is to use the six selected numbers through basic arithmetic operations (addition, subtraction, multiplication, and division) to reach the randomly generated number. The contestants can only use the selected numbers once, and they have to use all six numbers. Not all the numbers need to be used in the final expression, but they must be used into the in between steps of the calculation. Contestants can use various approaches to reach the target number, but no fractions are allowed during any stage of the calculation and positive numbers are only allowed(In the case of subtaction). <a href=\"https://en.wikipedia.org/wiki/Countdown_(game_show)\">[1]<a></a>\n",
    "\n",
    "***"
   ]
  },
  {
   "cell_type": "markdown",
   "metadata": {},
   "source": [
    "# Computational Complexity\n",
    "\n",
    "### What is Computational complexity?\n",
    "\n",
    "*Computational complexity* refers to the study of the resources required for computational problems, resources like as time and space. It is used to solve computational algorithm and understand more efficient ways of problem solving.Time complexity, measures the amount of time an algorithm takes to finish, based on how big the problem is. Space complexity measures the amount of memory space an algorithm requires.\n",
    "\n",
    "In computational complexity theory, problems are classified based on their difficulty. Some problems can be solved efficiently and fast, while others may take a long time and unefficient. These can be classified by using the terms P, NP, and NP-complete.\n",
    "\n"
   ]
  },
  {
   "cell_type": "markdown",
   "metadata": {},
   "source": [
    "# The Game Complexity"
   ]
  },
  {
   "cell_type": "markdown",
   "metadata": {},
   "source": [
    "***\n",
    "\n",
    "# Solving the Game\n",
    "\n",
    "To create a coded solving formula for the countdown game, there's many routes we can take.\n"
   ]
  },
  {
   "cell_type": "code",
   "execution_count": 1,
   "metadata": {},
   "outputs": [
    {
     "name": "stdout",
     "output_type": "stream",
     "text": [
      "Recursive Search: True\n"
     ]
    }
   ],
   "source": [
    "import random\n",
    "\n",
    "# Recursive Search\n",
    "def recursive_search(numbers, target):\n",
    "    if len(numbers) == 1:\n",
    "        return numbers[0] == target\n",
    "    for i in range(len(numbers)):\n",
    "        for j in range(i+1, len(numbers)):\n",
    "            for op in [lambda x, y: x+y, lambda x, y: x-y, lambda x, y: x*y, lambda x, y: x/y if y != 0 else None]:\n",
    "                new_numbers = [numbers[k] for k in range(len(numbers)) if k != i and k != j]\n",
    "                if op is not None:\n",
    "                    if op(numbers[i], numbers[j]) is not None and recursive_search(new_numbers + [op(numbers[i], numbers[j])], target):\n",
    "                        return True\n",
    "    return False\n",
    "    \n",
    "\n",
    "# Example usage\n",
    "selected_numbers = [2, 5, 10]\n",
    "target_number = 25\n",
    "\n",
    "print(\"Recursive Search:\", recursive_search(selected_numbers, target_number))\n"
   ]
  },
  {
   "cell_type": "markdown",
   "metadata": {},
   "source": [
    "The function iterates through all pairs of numbers and applies each of the four basic arithmetic operations (addition, subtraction, multiplication, division) to them.\n",
    "\n",
    "This approach essentially explores the entire search space of possible calculations, trying every combination until it finds a solution or exhausts all possibilities.\n",
    "\n",
    "However, this method becomes increasingly inefficient as the size of the numbers or the target number increases due to the exponential growth in the number of combinations."
   ]
  },
  {
   "cell_type": "markdown",
   "metadata": {},
   "source": [
    "***\n",
    "\n",
    "# References \n",
    "\n",
    "<a>[1]</a> https://en.wikipedia.org/wiki/Countdown_(game_show)\n",
    "\n",
    "<a>[2]</a> https://www.britannica.com/topic/computational-complexity\n",
    "\n",
    "<a>[3]</a> https://www.geeksforgeeks.org/introduction-to-computation-complex-theory/\n",
    "\n",
    "<a>[4]</a> https://theory.cs.princeton.edu/complexity/book.pdf\n",
    "\n",
    "<a>[5]</a> https://www.geeksforgeeks.org/introduction-to-np-completeness/\n",
    "\n",
    "<a>[6]</a>\n",
    "\n",
    "<a>[7]</a>\n",
    "\n",
    "<a>[8]</a>\n",
    "\n",
    "<a>[9]</a>\n",
    "\n",
    "<a>[10]</a>\n",
    "\n",
    "<a>[11]</a>\n",
    "\n",
    "<a>[12]</a>\n",
    "\n",
    "<a>[13]</a>\n",
    "\n",
    "<a>[14]</a>\n",
    "\n",
    "<a>[15]</a>\n"
   ]
  }
 ],
 "metadata": {
  "kernelspec": {
   "display_name": "Python 3 (ipykernel)",
   "language": "python",
   "name": "python3"
  },
  "language_info": {
   "codemirror_mode": {
    "name": "ipython",
    "version": 3
   },
   "file_extension": ".py",
   "mimetype": "text/x-python",
   "name": "python",
   "nbconvert_exporter": "python",
   "pygments_lexer": "ipython3",
   "version": "3.9.13"
  }
 },
 "nbformat": 4,
 "nbformat_minor": 2
}
